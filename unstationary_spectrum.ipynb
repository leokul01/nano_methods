{
 "cells": [
  {
   "cell_type": "code",
   "execution_count": 1,
   "metadata": {},
   "outputs": [],
   "source": [
    "import numpy as np\n",
    "from scipy.integrate import solve_ivp\n",
    "from scipy.integrate import quad\n",
    "from scipy.misc import derivative\n",
    "import matplotlib.pyplot as plt\n",
    "from functools import partial"
   ]
  },
  {
   "cell_type": "code",
   "execution_count": 2,
   "metadata": {},
   "outputs": [],
   "source": [
    "h = 1e-2\n",
    "dx = 1e-6\n",
    "a = 2"
   ]
  },
  {
   "cell_type": "code",
   "execution_count": 3,
   "metadata": {},
   "outputs": [],
   "source": [
    "def V(x):\n",
    "    return x**2*(np.pi + np.arctan(x))\n",
    "\n",
    "def H(x, p):\n",
    "    return p**2/2 + V(x)\n",
    "\n",
    "def Hp(x, p):\n",
    "    return p\n",
    "\n",
    "def ode(t, y):\n",
    "    x, p, Phi = y[0], y[1], y[2]\n",
    "\n",
    "    return [\n",
    "        p, \n",
    "        -2*x*(np.pi+np.arctan(x)) - x**2/(1+x**2),\n",
    "        p*Hp(p, x) - H(p, x)\n",
    "    ]"
   ]
  },
  {
   "cell_type": "code",
   "execution_count": 7,
   "metadata": {},
   "outputs": [],
   "source": [
    "def p(alpha):\n",
    "    return a  # On initial surface (t=0) p is const and equals a\n",
    "\n",
    "def X(alpha, t):\n",
    "    x_0 = alpha\n",
    "    p_0 = a\n",
    "    Phi_0 = 0  # Because of t = 0\n",
    "    t_span = [0, t]\n",
    "    sol = solve_ivp(ode, t_span, [x_0, p_0, Phi_0], t_eval=[t])\n",
    "\n",
    "    return sol.y[0][0]\n",
    "\n",
    "def Phi(alpha, t):\n",
    "    x_0 = alpha\n",
    "    p_0 = a\n",
    "    Phi_0 = 0  # Because of t = 0\n",
    "    t_span = [0, t]\n",
    "    sol = solve_ivp(ode, t_span, [x_0, p_0, Phi_0], t_eval=[t])\n",
    "\n",
    "    return sol.y[2][0]\n",
    "\n",
    "def J(alpha, t):\n",
    "    X_halfed = partial(X, t=t)\n",
    "    return np.abs(derivative(X_halfed, alpha, dx=dx))\n",
    "\n",
    "def S(alpha, t):\n",
    "    return quad(lambda a: p(a) * J(a, t), 0, alpha)[0]"
   ]
  },
  {
   "cell_type": "code",
   "execution_count": 8,
   "metadata": {},
   "outputs": [],
   "source": [
    "def psi(x, t):\n",
    "    mu_t = 0\n",
    "    m_n = 0\n",
    "    A = 1\n",
    "    \n",
    "    return np.exp(1j/h*Phi(x, t) + 1j*np.pi/2*(mu_t - m_n)) * A/np.sqrt(J(x, t)) * np.exp(1j/h*S(x, t))"
   ]
  },
  {
   "cell_type": "code",
   "execution_count": 9,
   "metadata": {},
   "outputs": [
    {
     "name": "stderr",
     "output_type": "stream",
     "text": [
      "/usr/local/Cellar/ipython/7.8.0/libexec/vendor/lib/python3.7/site-packages/ipykernel_launcher.py:27: IntegrationWarning: The maximum number of subdivisions (50) has been achieved.\n",
      "  If increasing the limit yields no improvement it is advised to analyze \n",
      "  the integrand in order to determine the difficulties.  If the position of a \n",
      "  local difficulty can be determined (singularity, discontinuity) one will \n",
      "  probably gain from splitting up the interval and calling the integrator \n",
      "  on the subranges.  Perhaps a special-purpose integrator should be used.\n"
     ]
    },
    {
     "name": "stdout",
     "output_type": "stream",
     "text": [
      "*\n",
      "*\n",
      "*\n",
      "*\n",
      "*\n",
      "*\n",
      "*\n",
      "*\n",
      "*\n",
      "*\n"
     ]
    },
    {
     "name": "stderr",
     "output_type": "stream",
     "text": [
      "/usr/local/lib/python3.7/site-packages/numpy/core/_asarray.py:85: ComplexWarning: Casting complex values to real discards the imaginary part\n",
      "  return array(a, dtype, copy=False, order=order)\n"
     ]
    },
    {
     "data": {
      "text/plain": [
       "[<matplotlib.lines.Line2D at 0x1134c8210>]"
      ]
     },
     "execution_count": 9,
     "metadata": {},
     "output_type": "execute_result"
    },
    {
     "data": {
      "image/png": "[encoded data removed]",
      "text/plain": [
       "<Figure size 432x288 with 1 Axes>"
      ]
     },
     "metadata": {
      "needs_background": "light"
     },
     "output_type": "display_data"
    }
   ],
   "source": [
    "t = 1\n",
    "xs = np.linspace(-2, 2, 10)\n",
    "\n",
    "psis = []\n",
    "for x in xs:\n",
    "    P = psi(x, t)\n",
    "    print('*')\n",
    "    psis.append(P)\n",
    "    \n",
    "plt.plot(xs, psis)"
   ]
  },
  {
   "cell_type": "code",
   "execution_count": 6,
   "metadata": {},
   "outputs": [
    {
     "data": {
      "text/plain": [
       "[<matplotlib.lines.Line2D at 0x1144a6dd0>]"
      ]
     },
     "execution_count": 6,
     "metadata": {},
     "output_type": "execute_result"
    },
    {
     "data": {
      "image/png": "[encoded data removed]",
      "text/plain": [
       "<Figure size 432x288 with 1 Axes>"
      ]
     },
     "metadata": {
      "needs_background": "light"
     },
     "output_type": "display_data"
    }
   ],
   "source": [
    "# Вращение лагранжевой поверхности в зависимости от времени\n",
    "\n",
    "t = 0.4\n",
    "a = 2\n",
    "xs = np.linspace(-10, 10, 100)\n",
    "\n",
    "rks = []\n",
    "for x in xs:\n",
    "    x_0 = x\n",
    "    p_0 = a\n",
    "    Phi_0 = 0\n",
    "    t_span = [0, t]\n",
    "    sol = solve_ivp(ode, t_span, [x_0, p_0, Phi_0], t_eval=[t])\n",
    "    rks.append([sol.y[0][0], sol.y[1][0]])\n",
    "    \n",
    "plt.plot(xs, [a for _ in xs])\n",
    "plt.plot([pair[0] for pair in rks], [pair[1] for pair in rks])"
   ]
  },
  {
   "cell_type": "code",
   "execution_count": null,
   "metadata": {},
   "outputs": [],
   "source": []
  }
 ],
 "metadata": {
  "kernelspec": {
   "display_name": "Python 3",
   "language": "python",
   "name": "python3"
  },
  "language_info": {
   "codemirror_mode": {
    "name": "ipython",
    "version": 3
   },
   "file_extension": ".py",
   "mimetype": "text/x-python",
   "name": "python",
   "nbconvert_exporter": "python",
   "pygments_lexer": "ipython3",
   "version": "3.7.4"
  }
 },
 "nbformat": 4,
 "nbformat_minor": 2
}
